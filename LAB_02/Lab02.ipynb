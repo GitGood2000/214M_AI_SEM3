{
 "cells": [
  {
   "cell_type": "markdown",
   "metadata": {},
   "source": [
    "# Лабораторная работа №2"
   ]
  },
  {
   "cell_type": "code",
   "execution_count": 1,
   "metadata": {},
   "outputs": [],
   "source": [
    "# !pip install pandas\n",
    "# !pip install trimesh\n",
    "# !pip install scipy\n",
    "# !pip install matplotlib"
   ]
  },
  {
   "cell_type": "markdown",
   "metadata": {},
   "source": [
    "## Deform a source mesh to form a target mesh using 3D loss functions"
   ]
  },
  {
   "cell_type": "code",
   "execution_count": 2,
   "metadata": {},
   "outputs": [],
   "source": [
    "import os\n",
    "import torch\n",
    "import trimesh\n",
    "import matplotlib\n",
    "from pytorch3d.io import load_obj, save_obj\n",
    "from pytorch3d.structures import Meshes\n",
    "from pytorch3d.utils import ico_sphere\n",
    "from pytorch3d.ops import sample_points_from_meshes\n",
    "from pytorch3d.loss import (\n",
    "    chamfer_distance, \n",
    "    mesh_edge_loss, \n",
    "    mesh_laplacian_smoothing, \n",
    "    mesh_normal_consistency,\n",
    ")\n",
    "import numpy as np\n",
    "from tqdm.notebook import tqdm\n",
    "%matplotlib notebook \n",
    "from mpl_toolkits.mplot3d import Axes3D\n",
    "import matplotlib.pyplot as plt\n",
    "import matplotlib as mpl\n",
    "mpl.rcParams['savefig.dpi'] = 80\n",
    "mpl.rcParams['figure.dpi'] = 80\n",
    "\n",
    "# Set the device\n",
    "if torch.cuda.is_available():\n",
    "    device = torch.device(\"cuda:0\")\n",
    "else:\n",
    "    device = torch.device(\"cpu\")\n",
    "    print(\"WARNING: CPU only, this will be slow!\")"
   ]
  },
  {
   "cell_type": "markdown",
   "metadata": {},
   "source": [
    "### 1. Load an obj file and create a Meshes object"
   ]
  },
  {
   "cell_type": "code",
   "execution_count": 4,
   "metadata": {},
   "outputs": [
    {
     "name": "stderr",
     "output_type": "stream",
     "text": [
      "C:\\Users\\himik\\AppData\\Local\\Temp\\ipykernel_51068\\1733296735.py:5: UserWarning: Creating a tensor from a list of numpy.ndarrays is extremely slow. Please consider converting the list to a single numpy.ndarray with numpy.array() before converting to a tensor. (Triggered internally at C:\\actions-runner\\_work\\pytorch\\pytorch\\builder\\windows\\pytorch\\torch\\csrc\\utils\\tensor_new.cpp:248.)\n",
      "  shape_basis = torch.tensor(hf['shape/model/pcaBasis'],\n"
     ]
    }
   ],
   "source": [
    "trg_obj = 'models/!EXPORT_Isaac_3DML.obj'\n",
    "\n",
    "# We read the target 3D model using load_obj\n",
    "verts, faces, aux = load_obj(trg_obj)\n",
    "\n",
    "# verts is a FloatTensor of shape (V, 3) where V is the number of vertices in the mesh\n",
    "# faces is an object which contains the following LongTensors: verts_idx, normals_idx and textures_idx\n",
    "# For this tutorial, normals and textures are ignored.\n",
    "faces_idx = faces.verts_idx.to(device)\n",
    "verts = verts.to(device)\n",
    "\n",
    "# We scale normalize and center the target mesh to fit in a sphere of radius 1 centered at (0,0,0). \n",
    "# (scale, center) will be used to bring the predicted mesh to its original center and scale\n",
    "# Note that normalizing the target mesh, speeds up the optimization but is not necessary!\n",
    "center = verts.mean(0)\n",
    "verts = verts - center\n",
    "scale = max(verts.abs().max(0)[0])\n",
    "verts = verts / scale\n",
    "\n",
    "# We construct a Meshes structure for the target mesh\n",
    "trg_mesh = Meshes(verts=[verts], faces=[faces_idx])\n",
    "\n",
    "# We initialize the source shape to be a sphere of radius 1\n",
    "src_mesh = ico_sphere(4, device)"
   ]
  },
  {
   "cell_type": "markdown",
   "metadata": {},
   "source": [
    "### 2. Visualize the source and target meshes"
   ]
  },
  {
   "cell_type": "code",
   "execution_count": 5,
   "metadata": {},
   "outputs": [],
   "source": [
    "def plot_pointcloud(mesh, title=\"\"):\n",
    "    # Sample points uniformly from the surface of the mesh.\n",
    "    points = sample_points_from_meshes(mesh, 5000)\n",
    "    x, y, z = points.clone().detach().cpu().squeeze().unbind(1)    \n",
    "    fig = plt.figure(figsize=(5, 5))\n",
    "    ax = Axes3D(fig)\n",
    "    ax.scatter3D(x, z, -y)\n",
    "    ax.set_xlabel('x')\n",
    "    ax.set_ylabel('z')\n",
    "    ax.set_zlabel('y')\n",
    "    ax.set_title(title)\n",
    "    ax.view_init(190, 30)\n",
    "    plt.show()"
   ]
  },
  {
   "cell_type": "code",
   "execution_count": 10,
   "metadata": {},
   "outputs": [
    {
     "ename": "TypeError",
     "evalue": "get_device() missing 1 required positional arguments: \"input\"",
     "output_type": "error",
     "traceback": [
      "\u001b[1;31m---------------------------------------------------------------------------\u001b[0m",
      "\u001b[1;31mTypeError\u001b[0m                                 Traceback (most recent call last)",
      "\u001b[1;32mc:\\Users\\himik\\Documents\\GitHub\\214M_AI_SEM3\\LAB_02\\Lab02.ipynb Cell 5\u001b[0m line \u001b[0;36m5\n\u001b[0;32m      <a href='vscode-notebook-cell:/c%3A/Users/himik/Documents/GitHub/214M_AI_SEM3/LAB_02/Lab02.ipynb#W4sZmlsZQ%3D%3D?line=0'>1</a>\u001b[0m cam_pos \u001b[39m=\u001b[39m torch\u001b[39m.\u001b[39mtensor([\u001b[39m-\u001b[39m\u001b[39m0.2697\u001b[39m, \u001b[39m-\u001b[39m\u001b[39m5.7891\u001b[39m, \u001b[39m373.9277\u001b[39m])\n\u001b[0;32m      <a href='vscode-notebook-cell:/c%3A/Users/himik/Documents/GitHub/214M_AI_SEM3/LAB_02/Lab02.ipynb#W4sZmlsZQ%3D%3D?line=1'>2</a>\u001b[0m cam_look_at \u001b[39m=\u001b[39m torch\u001b[39m.\u001b[39mtensor([\u001b[39m-\u001b[39m\u001b[39m0.2697\u001b[39m, \u001b[39m-\u001b[39m\u001b[39m5.7891\u001b[39m, \u001b[39m54.7918\u001b[39m])\n\u001b[0;32m      <a href='vscode-notebook-cell:/c%3A/Users/himik/Documents/GitHub/214M_AI_SEM3/LAB_02/Lab02.ipynb#W4sZmlsZQ%3D%3D?line=2'>3</a>\u001b[0m img \u001b[39m=\u001b[39m model(cam_pos, \n\u001b[0;32m      <a href='vscode-notebook-cell:/c%3A/Users/himik/Documents/GitHub/214M_AI_SEM3/LAB_02/Lab02.ipynb#W4sZmlsZQ%3D%3D?line=3'>4</a>\u001b[0m             cam_look_at, \n\u001b[1;32m----> <a href='vscode-notebook-cell:/c%3A/Users/himik/Documents/GitHub/214M_AI_SEM3/LAB_02/Lab02.ipynb#W4sZmlsZQ%3D%3D?line=4'>5</a>\u001b[0m             torch\u001b[39m.\u001b[39mzeros(\u001b[39m199\u001b[39m, device \u001b[39m=\u001b[39m torch\u001b[39m.\u001b[39;49mget_device()),\n\u001b[0;32m      <a href='vscode-notebook-cell:/c%3A/Users/himik/Documents/GitHub/214M_AI_SEM3/LAB_02/Lab02.ipynb#W4sZmlsZQ%3D%3D?line=5'>6</a>\u001b[0m             torch\u001b[39m.\u001b[39mzeros(\u001b[39m199\u001b[39m, device \u001b[39m=\u001b[39m torch\u001b[39m.\u001b[39mget_device()),\n\u001b[0;32m      <a href='vscode-notebook-cell:/c%3A/Users/himik/Documents/GitHub/214M_AI_SEM3/LAB_02/Lab02.ipynb#W4sZmlsZQ%3D%3D?line=6'>7</a>\u001b[0m             torch\u001b[39m.\u001b[39mones(\u001b[39m3\u001b[39m), \n\u001b[0;32m      <a href='vscode-notebook-cell:/c%3A/Users/himik/Documents/GitHub/214M_AI_SEM3/LAB_02/Lab02.ipynb#W4sZmlsZQ%3D%3D?line=7'>8</a>\u001b[0m             torch\u001b[39m.\u001b[39mzeros(\u001b[39m3\u001b[39m))\n\u001b[0;32m     <a href='vscode-notebook-cell:/c%3A/Users/himik/Documents/GitHub/214M_AI_SEM3/LAB_02/Lab02.ipynb#W4sZmlsZQ%3D%3D?line=9'>10</a>\u001b[0m imshow(torch\u001b[39m.\u001b[39mpow(img, \u001b[39m1.0\u001b[39m\u001b[39m/\u001b[39m\u001b[39m2.2\u001b[39m)\u001b[39m.\u001b[39mcpu())\n\u001b[0;32m     <a href='vscode-notebook-cell:/c%3A/Users/himik/Documents/GitHub/214M_AI_SEM3/LAB_02/Lab02.ipynb#W4sZmlsZQ%3D%3D?line=11'>12</a>\u001b[0m face_url \u001b[39m=\u001b[39m \u001b[39m'\u001b[39m\u001b[39mhttps://raw.githubusercontent.com/BachiLi/redner/master/tutorials/mona-lisa-cropped-256.png\u001b[39m\u001b[39m'\u001b[39m\n",
      "\u001b[1;31mTypeError\u001b[0m: get_device() missing 1 required positional arguments: \"input\""
     ]
    }
   ],
   "source": [
    "cam_pos = torch.tensor([-0.2697, -5.7891, 373.9277])\n",
    "cam_look_at = torch.tensor([-0.2697, -5.7891, 54.7918])\n",
    "img = model(cam_pos, \n",
    "            cam_look_at, \n",
    "            torch.zeros(199, device = torch.get_device()),\n",
    "            torch.zeros(199, device = torch.get_device()),\n",
    "            torch.ones(3), \n",
    "            torch.zeros(3))\n",
    "\n",
    "imshow(torch.pow(img, 1.0/2.2).cpu())\n",
    "\n",
    "face_url = 'https://raw.githubusercontent.com/BachiLi/redner/master/tutorials/mona-lisa-cropped-256.png'\n",
    "\n",
    "urllib.request.urlretrieve(face_url, 'target.png')\n",
    "target = pyrender.imread('target.png').to(pyrender.get_device())\n",
    "\n",
    "imshow(torch.pow(target, 1.0/2.2).cpu())"
   ]
  },
  {
   "cell_type": "code",
   "execution_count": null,
   "metadata": {},
   "outputs": [],
   "source": []
  }
 ],
 "metadata": {
  "kernelspec": {
   "display_name": ".venv",
   "language": "python",
   "name": "python3"
  },
  "language_info": {
   "codemirror_mode": {
    "name": "ipython",
    "version": 3
   },
   "file_extension": ".py",
   "mimetype": "text/x-python",
   "name": "python",
   "nbconvert_exporter": "python",
   "pygments_lexer": "ipython3",
   "version": "3.9.13"
  }
 },
 "nbformat": 4,
 "nbformat_minor": 2
}
